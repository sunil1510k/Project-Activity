{
 "cells": [
  {
   "cell_type": "markdown",
   "metadata": {},
   "source": [
    "# Dictionary\n",
    "\n",
    "- object having key value pairs seperated by ,\n",
    "- Dictionary itself is MUTABLE\n",
    "- {}\n",
    "- {k1 : v1 , k2 : v2 , ... }\n",
    "- UNIQUE keys are used to address the values\n",
    "- keys are Immutable while values are mutable as well as immutables\n",
    "- Application : HASHING / Addressing, as well as, 2D data\n"
   ]
  },
  {
   "cell_type": "code",
   "execution_count": 3,
   "metadata": {},
   "outputs": [
    {
     "name": "stdout",
     "output_type": "stream",
     "text": [
      "{} <class 'dict'>\n"
     ]
    }
   ],
   "source": [
    "dt = {}\n",
    "\n",
    "print(dt, type(dt))"
   ]
  },
  {
   "cell_type": "code",
   "execution_count": 6,
   "metadata": {},
   "outputs": [
    {
     "name": "stdout",
     "output_type": "stream",
     "text": [
      "[10, -3.5, 'hello', 5j, False, 10, False, (1, 4)]\n",
      "hello\n"
     ]
    }
   ],
   "source": [
    "listName = [10, -3.5, \"hello\", 5j, False, 10, False, (1, 4)]\n",
    "print(listName)\n",
    "\n",
    "print( listName[2] ) # list[index]\n"
   ]
  },
  {
   "cell_type": "code",
   "execution_count": null,
   "metadata": {},
   "outputs": [],
   "source": []
  },
  {
   "cell_type": "code",
   "execution_count": 8,
   "metadata": {},
   "outputs": [
    {
     "name": "stdout",
     "output_type": "stream",
     "text": [
      "{1: 10, 2: -3.5, 3: 'hello', 4: 5j, 5: False, 6: 10, 7: False, 8: (1, 4)}\n",
      "hello\n"
     ]
    }
   ],
   "source": [
    "dt = { 1 : 10, \n",
    "     2 : -3.5, \n",
    "     3 : 'hello', \n",
    "     4 : 5j, \n",
    "     5 : False, \n",
    "     6 : 10, \n",
    "     7 : False, \n",
    "     8 : (1, 4)}\n",
    "\n",
    "print( dt )\n",
    "print( dt[3] )  # dt[key]\n"
   ]
  },
  {
   "cell_type": "code",
   "execution_count": 12,
   "metadata": {},
   "outputs": [
    {
     "name": "stdout",
     "output_type": "stream",
     "text": [
      "{1: 10, 2: -3.5, 'a': 'hello', 4: 5j, 5: False, 'goa': 10, 7: False, 10j: (1, 4)}\n",
      "hello\n",
      "10\n",
      "10\n",
      "(1, 4)\n"
     ]
    },
    {
     "ename": "KeyError",
     "evalue": "0",
     "output_type": "error",
     "traceback": [
      "\u001b[1;31m---------------------------------------------------------------------------\u001b[0m",
      "\u001b[1;31mKeyError\u001b[0m                                  Traceback (most recent call last)",
      "\u001b[1;32m<ipython-input-12-83eff3b5344f>\u001b[0m in \u001b[0;36m<module>\u001b[1;34m\u001b[0m\n\u001b[0;32m     16\u001b[0m \u001b[1;33m\u001b[0m\u001b[0m\n\u001b[0;32m     17\u001b[0m \u001b[1;33m\u001b[0m\u001b[0m\n\u001b[1;32m---> 18\u001b[1;33m \u001b[0mprint\u001b[0m\u001b[1;33m(\u001b[0m\u001b[0mdt\u001b[0m\u001b[1;33m[\u001b[0m\u001b[1;36m0\u001b[0m\u001b[1;33m]\u001b[0m\u001b[1;33m)\u001b[0m\u001b[1;33m\u001b[0m\u001b[1;33m\u001b[0m\u001b[0m\n\u001b[0m",
      "\u001b[1;31mKeyError\u001b[0m: 0"
     ]
    }
   ],
   "source": [
    "dt = { 1 : 10, \n",
    "     2 : -3.5, \n",
    "     'a' : 'hello', \n",
    "     4 : 5j, \n",
    "     5 : False, \n",
    "     'goa' : 10, \n",
    "     7 : False, \n",
    "     10j : (1, 4)}\n",
    "\n",
    "print( dt )\n",
    "# print( dt[3] )  # dt[key]\n",
    "print( dt['a'] )\n",
    "print(dt[1])\n",
    "print(dt['goa'])\n",
    "print(dt[10j])\n",
    "\n",
    "\n",
    "# print(dt[0])"
   ]
  },
  {
   "cell_type": "code",
   "execution_count": 13,
   "metadata": {},
   "outputs": [
    {
     "name": "stdout",
     "output_type": "stream",
     "text": [
      "{1: False, 2: -3.5, 3: (1, 4), 4: 5j, 11: 10, 7: False}\n"
     ]
    }
   ],
   "source": [
    "dt = { 1 : 10, \n",
    "     2 : -3.5, \n",
    "     3 : 'hello', \n",
    "     4 : 5j, \n",
    "     1 : False, \n",
    "     11 : 10, \n",
    "     7 : False, \n",
    "     3 : (1, 4)}\n",
    "\n",
    "print( dt )\n"
   ]
  },
  {
   "cell_type": "code",
   "execution_count": 15,
   "metadata": {},
   "outputs": [
    {
     "name": "stdout",
     "output_type": "stream",
     "text": [
      "{1: 10, 2.4: -3.5, False: 'hello', 'abc': 5j, 10j: True, 11: [10, 3, 4], 7: (False, True, 'hello'), 3: {0.3: 300, 0.5: 500}}\n"
     ]
    }
   ],
   "source": [
    "dt = { 1 : 10, \n",
    "     2.4 : -3.5, \n",
    "     False : 'hello', \n",
    "     \"abc\" : 5j, \n",
    "     10j : True, \n",
    "     11 : [10, 3, 4], \n",
    "     7 : (False, True, 'hello'), \n",
    "     3 : { 0.3 : 300, 0.5 : 500 }  }\n",
    "\n",
    "print( dt )\n"
   ]
  },
  {
   "cell_type": "code",
   "execution_count": 17,
   "metadata": {},
   "outputs": [
    {
     "ename": "TypeError",
     "evalue": "unhashable type: 'list'",
     "output_type": "error",
     "traceback": [
      "\u001b[1;31m---------------------------------------------------------------------------\u001b[0m",
      "\u001b[1;31mTypeError\u001b[0m                                 Traceback (most recent call last)",
      "\u001b[1;32m<ipython-input-17-b9199b9fd9e5>\u001b[0m in \u001b[0;36m<module>\u001b[1;34m\u001b[0m\n\u001b[1;32m----> 1\u001b[1;33m dt = { 1 : 10, \n\u001b[0m\u001b[0;32m      2\u001b[0m      \u001b[1;36m2.4\u001b[0m \u001b[1;33m:\u001b[0m \u001b[1;33m-\u001b[0m\u001b[1;36m3.5\u001b[0m\u001b[1;33m,\u001b[0m\u001b[1;33m\u001b[0m\u001b[1;33m\u001b[0m\u001b[0m\n\u001b[0;32m      3\u001b[0m      \u001b[1;32mFalse\u001b[0m \u001b[1;33m:\u001b[0m \u001b[1;34m'hello'\u001b[0m\u001b[1;33m,\u001b[0m\u001b[1;33m\u001b[0m\u001b[1;33m\u001b[0m\u001b[0m\n\u001b[0;32m      4\u001b[0m      \u001b[1;34m\"abc\"\u001b[0m \u001b[1;33m:\u001b[0m \u001b[1;36m5j\u001b[0m\u001b[1;33m,\u001b[0m\u001b[1;33m\u001b[0m\u001b[1;33m\u001b[0m\u001b[0m\n\u001b[0;32m      5\u001b[0m      \u001b[1;36m10j\u001b[0m \u001b[1;33m:\u001b[0m \u001b[1;32mTrue\u001b[0m\u001b[1;33m,\u001b[0m\u001b[1;33m\u001b[0m\u001b[1;33m\u001b[0m\u001b[0m\n",
      "\u001b[1;31mTypeError\u001b[0m: unhashable type: 'list'"
     ]
    }
   ],
   "source": [
    "dt = { 1 : 10, \n",
    "     2.4 : -3.5, \n",
    "     False : 'hello', \n",
    "     \"abc\" : 5j, \n",
    "     10j : True, \n",
    "     [10, 3, 4] : 99999, \n",
    "     7 : (False, True, 'hello'), \n",
    "     3 : { 0.3 : 300, 0.5 : 500 }  }\n",
    "\n",
    "print( dt )\n"
   ]
  },
  {
   "cell_type": "code",
   "execution_count": 19,
   "metadata": {},
   "outputs": [
    {
     "name": "stdout",
     "output_type": "stream",
     "text": [
      "{1: 10, 2.4: -3.5, False: 'hello', 'abc': 5j, 10j: True, (1, 1, 1): (False, True, 'hello'), 3: {0.3: 300, 0.5: 500}}\n",
      "(False, True, 'hello')\n"
     ]
    }
   ],
   "source": [
    "dt = { 1 : 10, \n",
    "     2.4 : -3.5, \n",
    "     False : 'hello', \n",
    "     \"abc\" : 5j, \n",
    "     10j : True, \n",
    "     (1, 1, 1) : (False, True, 'hello'), \n",
    "     3 : { 0.3 : 300, 0.5 : 500 }  }\n",
    "\n",
    "print( dt )\n",
    "print( dt[(1,1,1)] )"
   ]
  },
  {
   "cell_type": "code",
   "execution_count": 20,
   "metadata": {},
   "outputs": [
    {
     "ename": "TypeError",
     "evalue": "unhashable type: 'dict'",
     "output_type": "error",
     "traceback": [
      "\u001b[1;31m---------------------------------------------------------------------------\u001b[0m",
      "\u001b[1;31mTypeError\u001b[0m                                 Traceback (most recent call last)",
      "\u001b[1;32m<ipython-input-20-252b62286ce3>\u001b[0m in \u001b[0;36m<module>\u001b[1;34m\u001b[0m\n\u001b[1;32m----> 1\u001b[1;33m dt = { 1 : 10, \n\u001b[0m\u001b[0;32m      2\u001b[0m      \u001b[1;36m2.4\u001b[0m \u001b[1;33m:\u001b[0m \u001b[1;33m-\u001b[0m\u001b[1;36m3.5\u001b[0m\u001b[1;33m,\u001b[0m\u001b[1;33m\u001b[0m\u001b[1;33m\u001b[0m\u001b[0m\n\u001b[0;32m      3\u001b[0m      \u001b[1;32mFalse\u001b[0m \u001b[1;33m:\u001b[0m \u001b[1;34m'hello'\u001b[0m\u001b[1;33m,\u001b[0m\u001b[1;33m\u001b[0m\u001b[1;33m\u001b[0m\u001b[0m\n\u001b[0;32m      4\u001b[0m      \u001b[1;34m\"abc\"\u001b[0m \u001b[1;33m:\u001b[0m \u001b[1;36m5j\u001b[0m\u001b[1;33m,\u001b[0m\u001b[1;33m\u001b[0m\u001b[1;33m\u001b[0m\u001b[0m\n\u001b[0;32m      5\u001b[0m      \u001b[1;36m10j\u001b[0m \u001b[1;33m:\u001b[0m \u001b[1;32mTrue\u001b[0m\u001b[1;33m,\u001b[0m\u001b[1;33m\u001b[0m\u001b[1;33m\u001b[0m\u001b[0m\n",
      "\u001b[1;31mTypeError\u001b[0m: unhashable type: 'dict'"
     ]
    }
   ],
   "source": [
    "dt = { 1 : 10, \n",
    "     2.4 : -3.5, \n",
    "     False : 'hello', \n",
    "     \"abc\" : 5j, \n",
    "     10j : True, \n",
    "     (1, 1, 1) : (False, True, 'hello'), \n",
    "     { 0.3 : 300, 0.5 : 500 }  : 300000}\n",
    "\n",
    "print( dt )\n",
    "print( dt[(1,1,1)] )"
   ]
  },
  {
   "cell_type": "code",
   "execution_count": 27,
   "metadata": {},
   "outputs": [],
   "source": [
    "abc = { True : False, \n",
    "      False : True, \n",
    "      True : 999}\n",
    "\n"
   ]
  },
  {
   "cell_type": "code",
   "execution_count": 28,
   "metadata": {},
   "outputs": [
    {
     "data": {
      "text/plain": [
       "True"
      ]
     },
     "execution_count": 28,
     "metadata": {},
     "output_type": "execute_result"
    }
   ],
   "source": [
    "abc[False]"
   ]
  },
  {
   "cell_type": "code",
   "execution_count": 29,
   "metadata": {},
   "outputs": [
    {
     "data": {
      "text/plain": [
       "999"
      ]
     },
     "execution_count": 29,
     "metadata": {},
     "output_type": "execute_result"
    }
   ],
   "source": [
    "abc[True]"
   ]
  },
  {
   "cell_type": "code",
   "execution_count": 30,
   "metadata": {},
   "outputs": [
    {
     "data": {
      "text/plain": [
       "True"
      ]
     },
     "execution_count": 30,
     "metadata": {},
     "output_type": "execute_result"
    }
   ],
   "source": [
    "abc[0]"
   ]
  },
  {
   "cell_type": "code",
   "execution_count": 33,
   "metadata": {},
   "outputs": [],
   "source": [
    "abc = { True : False, \n",
    "      False : True, \n",
    "      1 : 999, \n",
    "      0 : 111}\n",
    "\n"
   ]
  },
  {
   "cell_type": "code",
   "execution_count": 34,
   "metadata": {},
   "outputs": [
    {
     "data": {
      "text/plain": [
       "111"
      ]
     },
     "execution_count": 34,
     "metadata": {},
     "output_type": "execute_result"
    }
   ],
   "source": [
    "abc[False]"
   ]
  },
  {
   "cell_type": "code",
   "execution_count": 35,
   "metadata": {},
   "outputs": [
    {
     "data": {
      "text/plain": [
       "999"
      ]
     },
     "execution_count": 35,
     "metadata": {},
     "output_type": "execute_result"
    }
   ],
   "source": [
    "abc[True]"
   ]
  },
  {
   "cell_type": "code",
   "execution_count": 39,
   "metadata": {},
   "outputs": [],
   "source": [
    "abc = { True : False, \n",
    "      False : True, \n",
    "      1 : 999, \n",
    "      0 : 111, \n",
    "      1 : 'Nitish'}\n",
    "\n"
   ]
  },
  {
   "cell_type": "code",
   "execution_count": 38,
   "metadata": {},
   "outputs": [
    {
     "data": {
      "text/plain": [
       "'Nitish'"
      ]
     },
     "execution_count": 38,
     "metadata": {},
     "output_type": "execute_result"
    }
   ],
   "source": [
    "abc[True]"
   ]
  },
  {
   "cell_type": "code",
   "execution_count": 40,
   "metadata": {},
   "outputs": [],
   "source": [
    "abc = { True : False, \n",
    "      False : True, \n",
    "      1 : 999, \n",
    "      0 : 111, \n",
    "      1 : 'Nitish', \n",
    "      \"\" : 1000}\n",
    "\n"
   ]
  },
  {
   "cell_type": "code",
   "execution_count": 41,
   "metadata": {},
   "outputs": [
    {
     "data": {
      "text/plain": [
       "111"
      ]
     },
     "execution_count": 41,
     "metadata": {},
     "output_type": "execute_result"
    }
   ],
   "source": [
    "abc[0]"
   ]
  },
  {
   "cell_type": "code",
   "execution_count": null,
   "metadata": {},
   "outputs": [],
   "source": []
  },
  {
   "cell_type": "markdown",
   "metadata": {},
   "source": [
    "## Basic Operations"
   ]
  },
  {
   "cell_type": "code",
   "execution_count": 45,
   "metadata": {},
   "outputs": [
    {
     "name": "stdout",
     "output_type": "stream",
     "text": [
      "{1: 10, 2.4: -3.5, False: 'hello', 'abc': 5j, 10j: True, (1, 1, 1): (False, True, 'hello')}\n",
      "6\n"
     ]
    }
   ],
   "source": [
    "# 1. len : key value pairs\n",
    "\n",
    "dt = { 1 : 10, \n",
    "     2.4 : -3.5, \n",
    "     False : 'hello', \n",
    "     \"abc\" : 5j, \n",
    "     10j : True, \n",
    "     (1, 1, 1) : (False, True, 'hello')}\n",
    "\n",
    "print( dt )\n",
    "print( len(dt) )"
   ]
  },
  {
   "cell_type": "code",
   "execution_count": 48,
   "metadata": {},
   "outputs": [
    {
     "name": "stdout",
     "output_type": "stream",
     "text": [
      "{1: 10, 2.4: -3.5, False: 'hello', 'abc': 5j, 10j: True, (1, 1, 1): (False, True, 'hello')}\n"
     ]
    }
   ],
   "source": [
    "# 2. No Indexing and Slicing\n",
    "\n",
    "dt = { 1 : 10, \n",
    "     2.4 : -3.5, \n",
    "     False : 'hello', \n",
    "     \"abc\" : 5j, \n",
    "     10j : True, \n",
    "     (1, 1, 1) : (False, True, 'hello')}\n",
    "\n",
    "print( dt )\n",
    "\n",
    "# print( dt[100] )  # Weather 100 is KEY\n",
    "# print( dt[1 : 3] )\n"
   ]
  },
  {
   "cell_type": "code",
   "execution_count": null,
   "metadata": {},
   "outputs": [],
   "source": [
    "# 3. No Concat and Repeat"
   ]
  },
  {
   "cell_type": "code",
   "execution_count": 51,
   "metadata": {},
   "outputs": [
    {
     "name": "stdout",
     "output_type": "stream",
     "text": [
      "{1: 10, 2.4: -3.5, False: 'hello', 'abc': 5j, 10j: True, (1, 1, 1): (False, True, 'hello')}\n",
      "False\n",
      "False\n",
      "True\n"
     ]
    }
   ],
   "source": [
    "# 4. Memebership : return True, if KEY is present inside the dictionary\n",
    "\n",
    "dt = { 1 : 10, \n",
    "     2.4 : -3.5, \n",
    "     False : 'hello', \n",
    "     \"abc\" : 5j, \n",
    "     10j : True, \n",
    "     (1, 1, 1) : (False, True, 'hello')}\n",
    "\n",
    "print( dt )\n",
    "\n",
    "print( \"xyz\" in dt )\n",
    "print( 5j in dt )\n",
    "\n",
    "print( 0 in dt )\n"
   ]
  },
  {
   "cell_type": "code",
   "execution_count": null,
   "metadata": {},
   "outputs": [],
   "source": []
  },
  {
   "cell_type": "markdown",
   "metadata": {},
   "source": [
    "# Dictionary methods"
   ]
  },
  {
   "cell_type": "code",
   "execution_count": null,
   "metadata": {},
   "outputs": [],
   "source": [
    "# dict_keys\n",
    "# dict_values\n"
   ]
  },
  {
   "cell_type": "code",
   "execution_count": 62,
   "metadata": {},
   "outputs": [
    {
     "name": "stdout",
     "output_type": "stream",
     "text": [
      "[10, -3.5, 'hello', 5j, False, 10, False, (1, 4)]\n",
      "[1, 2, 3, 4, 5, 6, 7, 8]\n"
     ]
    },
    {
     "data": {
      "text/plain": [
       "{1: 10, 2: -3.5, 3: 'hello', 4: 5j, 5: False, 6: 10, 7: False, 8: (1, 4)}"
      ]
     },
     "execution_count": 62,
     "metadata": {},
     "output_type": "execute_result"
    }
   ],
   "source": [
    "listName = [10, -3.5, \"hello\", 5j, False, 10, False, (1, 4)]\n",
    "indexList = list( range(1, len(listName) + 1) )\n",
    "# indexList = list( range(5) )\n",
    "\n",
    "print(listName)\n",
    "print(indexList)\n",
    "\n",
    "myDict = dict(zip( indexList, listName ))\n",
    "myDict"
   ]
  },
  {
   "cell_type": "code",
   "execution_count": null,
   "metadata": {},
   "outputs": [],
   "source": []
  },
  {
   "cell_type": "code",
   "execution_count": 70,
   "metadata": {},
   "outputs": [
    {
     "name": "stdout",
     "output_type": "stream",
     "text": [
      "dict_keys([1, 2, 3, 4, 5, 6, 7, 8])\n",
      "1\n",
      "2\n",
      "3\n",
      "4\n",
      "5\n",
      "6\n",
      "7\n",
      "8\n"
     ]
    }
   ],
   "source": [
    "### Represent KEYS\n",
    "\n",
    "print( myDict.keys() )\n",
    "\n",
    "for k in myDict.keys() : \n",
    "    print(k)\n",
    "\n"
   ]
  },
  {
   "cell_type": "code",
   "execution_count": 71,
   "metadata": {},
   "outputs": [
    {
     "name": "stdout",
     "output_type": "stream",
     "text": [
      "dict_values([10, -3.5, 'hello', 5j, False, 10, False, (1, 4)])\n",
      "10\n",
      "-3.5\n",
      "hello\n",
      "5j\n",
      "False\n",
      "10\n",
      "False\n",
      "(1, 4)\n"
     ]
    }
   ],
   "source": [
    "### Represent VLAUES\n",
    "\n",
    "print( myDict.values() )\n",
    "\n",
    "for v in myDict.values() : \n",
    "    print(v)\n",
    "\n"
   ]
  },
  {
   "cell_type": "code",
   "execution_count": 74,
   "metadata": {},
   "outputs": [
    {
     "name": "stdout",
     "output_type": "stream",
     "text": [
      "dict_items([(1, 10), (2, -3.5), (3, 'hello'), (4, 5j), (5, False), (6, 10), (7, False), (8, (1, 4))])\n",
      "(1, 10)\n",
      "(2, -3.5)\n",
      "(3, 'hello')\n",
      "(4, 5j)\n",
      "(5, False)\n",
      "(6, 10)\n",
      "(7, False)\n",
      "(8, (1, 4))\n",
      "1  :  10\n",
      "2  :  -3.5\n",
      "3  :  hello\n",
      "4  :  5j\n",
      "5  :  False\n",
      "6  :  10\n",
      "7  :  False\n",
      "8  :  (1, 4)\n"
     ]
    }
   ],
   "source": [
    "### Represent PAIRS\n",
    "\n",
    "print( myDict.items() )\n",
    "\n",
    "for i in myDict.items() : \n",
    "    print(i)\n",
    "\n",
    "for k, v in myDict.items() : \n",
    "    print(k, \" : \", v)\n",
    "\n"
   ]
  },
  {
   "cell_type": "code",
   "execution_count": null,
   "metadata": {},
   "outputs": [],
   "source": []
  },
  {
   "cell_type": "code",
   "execution_count": 92,
   "metadata": {},
   "outputs": [
    {
     "name": "stdout",
     "output_type": "stream",
     "text": [
      "{1: 10, 2: -3.5, 3: 'hello', 4: 5j, 5: False, 6: 10, 7: False, 8: (1, 4)}\n",
      "{1: 10, 2: -3.5, 3: 'hello', 4: 5j, 5: False, 6: 10, 7: False, 8: (1, 4), 'XYZ': 99999}\n",
      "{1: 10, 2: -3.5, 3: 'hello', 4: 5j, 5: False, 6: 10, 7: False, 8: (1, 4), 'XYZ': 99999, 'BLUE': 'Sky High'}\n"
     ]
    }
   ],
   "source": [
    "# Insert into the dictionary.\n",
    "# Its always inserted to the END ...\n",
    "# dt[key] = value\n",
    "\n",
    "listName = [10, -3.5, \"hello\", 5j, False, 10, False, (1, 4)]\n",
    "indexList = list( range(1, len(listName) + 1) )\n",
    "myDict = dict(zip( indexList, listName ))\n",
    "\n",
    "print( myDict )\n",
    "\n",
    "myDict[\"XYZ\"] = 99999\n",
    "print( myDict )\n",
    "\n",
    "myDict.update( { \"BLUE\" : 'Sky High' } )\n",
    "print( myDict )\n",
    "\n"
   ]
  },
  {
   "cell_type": "code",
   "execution_count": 91,
   "metadata": {},
   "outputs": [
    {
     "name": "stdout",
     "output_type": "stream",
     "text": [
      "{1: 10, 2: -3.5, 3: 'hello', 4: 5j, 5: False, 6: 10, 7: False, 8: (1, 4)}\n",
      "{1: 10, 2: -3.5, 3: 'hello', 4: 5j, 5: 99999, 6: 10, 7: False, 8: (1, 4)}\n",
      "{1: 999, 2: -3.5, 3: 'hello', 4: 5j, 5: 99999, 6: 10, 7: False, 8: (1, 4)}\n"
     ]
    }
   ],
   "source": [
    "# Update into the dictionary.\n",
    "# KEY SHALL EXISTS\n",
    "# dt[key] = value\n",
    "\n",
    "listName = [10, -3.5, \"hello\", 5j, False, 10, False, (1, 4)]\n",
    "indexList = list( range(1, len(listName) + 1) )\n",
    "myDict = dict(zip( indexList, listName ))\n",
    "\n",
    "print( myDict )\n",
    "\n",
    "myDict[5] = 99999\n",
    "print( myDict )\n",
    "\n",
    "myDict.update( { 1 : 999 } )\n",
    "print( myDict )\n"
   ]
  },
  {
   "cell_type": "code",
   "execution_count": 89,
   "metadata": {},
   "outputs": [
    {
     "name": "stdout",
     "output_type": "stream",
     "text": [
      "{1: 10, 2: -3.5, 3: 'hello', 4: 5j, 5: False, 6: 10, 7: False, 8: (1, 4)}\n",
      "False\n",
      "{1: 10, 2: -3.5, 3: 'hello', 4: 5j, 5: False, 6: 10, 8: (1, 4)}\n",
      "10\n",
      "{2: -3.5, 3: 'hello', 4: 5j, 5: False, 6: 10, 8: (1, 4)}\n"
     ]
    }
   ],
   "source": [
    "# Remove the dictionary.\n",
    "# KEY SHALL EXISTS\n",
    "# dt.pop()\n",
    "\n",
    "listName = [10, -3.5, \"hello\", 5j, False, 10, False, (1, 4)]\n",
    "indexList = list( range(1, len(listName) + 1) )\n",
    "myDict = dict(zip( indexList, listName ))\n",
    "\n",
    "print( myDict )\n",
    "\n",
    "print( myDict.pop(7) )\n",
    "print( myDict )\n",
    "\n",
    "print( myDict.pop(1) )\n",
    "print( myDict )\n",
    "\n"
   ]
  },
  {
   "cell_type": "code",
   "execution_count": 83,
   "metadata": {},
   "outputs": [
    {
     "name": "stdout",
     "output_type": "stream",
     "text": [
      "['__class__', '__contains__', '__delattr__', '__delitem__', '__dir__', '__doc__', '__eq__', '__format__', '__ge__', '__getattribute__', '__getitem__', '__gt__', '__hash__', '__init__', '__init_subclass__', '__iter__', '__le__', '__len__', '__lt__', '__ne__', '__new__', '__reduce__', '__reduce_ex__', '__repr__', '__reversed__', '__setattr__', '__setitem__', '__sizeof__', '__str__', '__subclasshook__', 'clear', 'copy', 'fromkeys', 'get', 'items', 'keys', 'pop', 'popitem', 'setdefault', 'update', 'values']\n"
     ]
    }
   ],
   "source": [
    "print( dir(dict) )"
   ]
  },
  {
   "cell_type": "code",
   "execution_count": 90,
   "metadata": {},
   "outputs": [
    {
     "name": "stdout",
     "output_type": "stream",
     "text": [
      "{1: 10, 2: -3.5, 3: 'hello', 4: 5j, 5: False, 6: 10, 7: False, 8: (1, 4)}\n",
      "{1: 10, 2: -3.5, 3: 'hello', 4: 5j, 5: False, 6: 10, 7: False}\n"
     ]
    }
   ],
   "source": [
    "# Remove the dictionary.\n",
    "# KEY SHALL EXISTS\n",
    "# dt.pop()\n",
    "\n",
    "listName = [10, -3.5, \"hello\", 5j, False, 10, False, (1, 4)]\n",
    "indexList = list( range(1, len(listName) + 1) )\n",
    "myDict = dict(zip( indexList, listName ))\n",
    "\n",
    "print( myDict )\n",
    "\n",
    "myDict.popitem()\n",
    "print( myDict )\n",
    "\n"
   ]
  },
  {
   "cell_type": "code",
   "execution_count": null,
   "metadata": {},
   "outputs": [],
   "source": []
  },
  {
   "cell_type": "code",
   "execution_count": 101,
   "metadata": {},
   "outputs": [
    {
     "name": "stdout",
     "output_type": "stream",
     "text": [
      "{1: 10, 2: -3.5, 3: 'hello', 4: 5j, 5: False, 6: 10, 7: False, 8: (1, 4)}\n",
      "hello\n",
      "hello\n",
      "Key Not Found\n",
      "600\n"
     ]
    }
   ],
   "source": [
    "listName = [10, -3.5, \"hello\", 5j, False, 10, False, (1, 4)]\n",
    "indexList = list( range(1, len(listName) + 1) )\n",
    "myDict = dict(zip( indexList, listName ))\n",
    "\n",
    "print( myDict )\n",
    "print( myDict[3] )\n",
    "print( myDict.get(3) )\n",
    "\n",
    "\n",
    "# print( myDict[666] )\n",
    "print( myDict.get(666, \"Key Not Found\") )\n",
    "\n",
    "print(100 * 6)\n"
   ]
  },
  {
   "cell_type": "code",
   "execution_count": null,
   "metadata": {},
   "outputs": [],
   "source": []
  },
  {
   "cell_type": "code",
   "execution_count": 106,
   "metadata": {},
   "outputs": [
    {
     "name": "stdout",
     "output_type": "stream",
     "text": [
      "{'blue': [1, 2, 3, 4], 'orange': [11, 12, 13, 14], 'red': [21, 22, 23, 24], 'yellow': [31, 32, 33, 34]}\n"
     ]
    }
   ],
   "source": [
    "## Applications : \n",
    "\n",
    "dt = { \"blue\" : list(range(1, 5)), \n",
    "     \"orange\" : list(range(11, 15)), \n",
    "     \"red\" : list(range(21, 25)), \n",
    "     'yellow' : list(range(31, 35))}\n",
    "\n",
    "print(dt)"
   ]
  },
  {
   "cell_type": "code",
   "execution_count": 107,
   "metadata": {},
   "outputs": [
    {
     "data": {
      "text/html": [
       "<div>\n",
       "<style scoped>\n",
       "    .dataframe tbody tr th:only-of-type {\n",
       "        vertical-align: middle;\n",
       "    }\n",
       "\n",
       "    .dataframe tbody tr th {\n",
       "        vertical-align: top;\n",
       "    }\n",
       "\n",
       "    .dataframe thead th {\n",
       "        text-align: right;\n",
       "    }\n",
       "</style>\n",
       "<table border=\"1\" class=\"dataframe\">\n",
       "  <thead>\n",
       "    <tr style=\"text-align: right;\">\n",
       "      <th></th>\n",
       "      <th>blue</th>\n",
       "      <th>orange</th>\n",
       "      <th>red</th>\n",
       "      <th>yellow</th>\n",
       "    </tr>\n",
       "  </thead>\n",
       "  <tbody>\n",
       "    <tr>\n",
       "      <th>0</th>\n",
       "      <td>1</td>\n",
       "      <td>11</td>\n",
       "      <td>21</td>\n",
       "      <td>31</td>\n",
       "    </tr>\n",
       "    <tr>\n",
       "      <th>1</th>\n",
       "      <td>2</td>\n",
       "      <td>12</td>\n",
       "      <td>22</td>\n",
       "      <td>32</td>\n",
       "    </tr>\n",
       "    <tr>\n",
       "      <th>2</th>\n",
       "      <td>3</td>\n",
       "      <td>13</td>\n",
       "      <td>23</td>\n",
       "      <td>33</td>\n",
       "    </tr>\n",
       "    <tr>\n",
       "      <th>3</th>\n",
       "      <td>4</td>\n",
       "      <td>14</td>\n",
       "      <td>24</td>\n",
       "      <td>34</td>\n",
       "    </tr>\n",
       "  </tbody>\n",
       "</table>\n",
       "</div>"
      ],
      "text/plain": [
       "   blue  orange  red  yellow\n",
       "0     1      11   21      31\n",
       "1     2      12   22      32\n",
       "2     3      13   23      33\n",
       "3     4      14   24      34"
      ]
     },
     "execution_count": 107,
     "metadata": {},
     "output_type": "execute_result"
    }
   ],
   "source": [
    "import pandas\n",
    "\n",
    "table = pandas.DataFrame(dt)\n",
    "table"
   ]
  },
  {
   "cell_type": "code",
   "execution_count": 108,
   "metadata": {},
   "outputs": [
    {
     "name": "stdout",
     "output_type": "stream",
     "text": [
      "[1, 5, -5, False]\n",
      "[11, 12, 13, 14, 15, 16, 17, 18, 19, 20, 21, 22, 23, 24]\n",
      "['snbdv', True, 30, -5]\n",
      "['hey', 'dear', 'can', 'you', 'reead', 'the', 'symbol']\n"
     ]
    }
   ],
   "source": [
    "## Application : \n",
    "# Hashing\n",
    "\n",
    "blue = [1, 5, -5, False]\n",
    "orange = list(range(11, 25))\n",
    "green = \"hey dear can you reead the symbol\".split(\" \")\n",
    "red = [\"snbdv\", True, 30, -5]\n",
    "\n",
    "print(blue)\n",
    "print(orange)\n",
    "print(red)\n",
    "print(green)\n",
    "\n"
   ]
  },
  {
   "cell_type": "code",
   "execution_count": 110,
   "metadata": {},
   "outputs": [
    {
     "data": {
      "text/plain": [
       "{'a': [1, 5, -5, False],\n",
       " 'b': [11, 12, 13, 14, 15, 16, 17, 18, 19, 20, 21, 22, 23, 24],\n",
       " 'c': ['hey', 'dear', 'can', 'you', 'reead', 'the', 'symbol'],\n",
       " 'd': ['snbdv', True, 30, -5]}"
      ]
     },
     "execution_count": 110,
     "metadata": {},
     "output_type": "execute_result"
    }
   ],
   "source": [
    "empDict = {  'a' : blue, \n",
    "          'b' : orange, \n",
    "          'c' : green, \n",
    "          'd' : red}\n",
    "\n",
    "empDict"
   ]
  },
  {
   "cell_type": "code",
   "execution_count": 112,
   "metadata": {},
   "outputs": [
    {
     "data": {
      "text/plain": [
       "13"
      ]
     },
     "execution_count": 112,
     "metadata": {},
     "output_type": "execute_result"
    }
   ],
   "source": [
    "# display 3rd value of orange\n",
    "\n",
    "empDict['b'][2]"
   ]
  },
  {
   "cell_type": "code",
   "execution_count": 114,
   "metadata": {},
   "outputs": [
    {
     "data": {
      "text/plain": [
       "[True, 30]"
      ]
     },
     "execution_count": 114,
     "metadata": {},
     "output_type": "execute_result"
    }
   ],
   "source": [
    "# [True, 30]\n",
    "\n",
    "empDict['d'][1 : 3]"
   ]
  },
  {
   "cell_type": "code",
   "execution_count": null,
   "metadata": {},
   "outputs": [],
   "source": []
  },
  {
   "cell_type": "code",
   "execution_count": 121,
   "metadata": {},
   "outputs": [
    {
     "data": {
      "text/plain": [
       "{'python': <_io.TextIOWrapper name='python.txt' mode='r' encoding='cp1252'>,\n",
       " 'java': <_io.TextIOWrapper name='java.txt' mode='r' encoding='cp1252'>,\n",
       " 'ruby': <_io.TextIOWrapper name='ruby.txt' mode='r' encoding='cp1252'>}"
      ]
     },
     "execution_count": 121,
     "metadata": {},
     "output_type": "execute_result"
    }
   ],
   "source": [
    "files = { \"python\" : open(\"python.txt\", \"r\"),\n",
    "        \"java\" : open(\"java.txt\", \"r\"),\n",
    "        \"ruby\" : open(\"ruby.txt\", \"r\")}\n",
    "\n",
    "files"
   ]
  },
  {
   "cell_type": "code",
   "execution_count": 122,
   "metadata": {},
   "outputs": [
    {
     "name": "stdout",
     "output_type": "stream",
     "text": [
      "Python is a high-level, general-purpose programming language. Its design philosophy emphasizes code readability with the use of significant indentation. Python is dynamically-typed and garbage-collected. It supports multiple programming paradigms, including structured, object-oriented and functional programming\n"
     ]
    }
   ],
   "source": [
    "print( files['python'].read() )"
   ]
  },
  {
   "cell_type": "code",
   "execution_count": 123,
   "metadata": {},
   "outputs": [
    {
     "name": "stdout",
     "output_type": "stream",
     "text": [
      "Java is a high-level, class-based, object-oriented programming language that is designed to have as few implementation dependencies as possible.\n"
     ]
    }
   ],
   "source": [
    "print( files['java'].read() )"
   ]
  },
  {
   "cell_type": "code",
   "execution_count": 124,
   "metadata": {},
   "outputs": [
    {
     "name": "stdout",
     "output_type": "stream",
     "text": [
      "Ruby is an interpreted, high-level, general-purpose programming language which supports multiple programming paradigms. It was designed with an emphasis on programming productivity and simplicity. In Ruby, everything is an object, including primitive data types\n"
     ]
    }
   ],
   "source": [
    "print( files['ruby'].read() )"
   ]
  },
  {
   "cell_type": "code",
   "execution_count": null,
   "metadata": {},
   "outputs": [],
   "source": []
  },
  {
   "cell_type": "code",
   "execution_count": null,
   "metadata": {},
   "outputs": [],
   "source": []
  },
  {
   "cell_type": "code",
   "execution_count": null,
   "metadata": {},
   "outputs": [],
   "source": []
  },
  {
   "cell_type": "code",
   "execution_count": null,
   "metadata": {},
   "outputs": [],
   "source": []
  }
 ],
 "metadata": {
  "kernelspec": {
   "display_name": "Python 3 (ipykernel)",
   "language": "python",
   "name": "python3"
  },
  "language_info": {
   "codemirror_mode": {
    "name": "ipython",
    "version": 3
   },
   "file_extension": ".py",
   "mimetype": "text/x-python",
   "name": "python",
   "nbconvert_exporter": "python",
   "pygments_lexer": "ipython3",
   "version": "3.9.13"
  }
 },
 "nbformat": 4,
 "nbformat_minor": 4
}
