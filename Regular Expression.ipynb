{
 "cells": [
  {
   "cell_type": "markdown",
   "metadata": {},
   "source": [
    "# Regular Expression\n",
    "\n",
    "- catching the patterns inside the string\n",
    "- depend on the package \"re\"\n",
    "- 4 - 5 methods are there.  search, findall, sub, split\n"
   ]
  },
  {
   "cell_type": "markdown",
   "metadata": {},
   "source": [
    "# 1. Search Method : \n",
    "\n",
    "- re.search( pattern , stringName )\n",
    "- search the pattern from the starting of the string and return FIRST occurence of the pattern\n",
    "- Use the .group() method to watch the result"
   ]
  },
  {
   "cell_type": "code",
   "execution_count": 2,
   "metadata": {},
   "outputs": [
    {
     "data": {
      "text/plain": [
       "1"
      ]
     },
     "execution_count": 2,
     "metadata": {},
     "output_type": "execute_result"
    }
   ],
   "source": [
    "stringName = \"alive long 2022 lives ahead 5782 False\"\n",
    "\n",
    "# find the position of the word where it starts with \"l\"\n",
    "res = stringName.find( \"l\" )\n",
    "res\n",
    "\n",
    "\n"
   ]
  },
  {
   "cell_type": "code",
   "execution_count": 5,
   "metadata": {},
   "outputs": [
    {
     "data": {
      "text/plain": [
       "['live', 'long']"
      ]
     },
     "execution_count": 5,
     "metadata": {},
     "output_type": "execute_result"
    }
   ],
   "source": [
    "stringName = \"live long 2022 lives ahead 5782 False\"\n",
    "\n",
    "# find the word where it starts with \"l\" and is 4 letter long ???\n",
    "res = stringName.split(\" \")\n",
    "res\n",
    "\n",
    "res2 = [ x  for x in res if x.startswith(\"l\") and len(x) == 4]\n",
    "res2"
   ]
  },
  {
   "cell_type": "code",
   "execution_count": 16,
   "metadata": {},
   "outputs": [
    {
     "name": "stdout",
     "output_type": "stream",
     "text": [
      " Pattern Found :: l\n"
     ]
    }
   ],
   "source": [
    "# find the word where it starts with \"l\" and is 4 letter long ???\n",
    "\n",
    "import re\n",
    "\n",
    "stringName = \"live long 2022 lives ahead 5782 False\"\n",
    "\n",
    "res = re.search( r\"l\", stringName )\n",
    "\n",
    "\n",
    "if res : \n",
    "    print( f\" Pattern Found :: {res.group()}\" )\n",
    "else :\n",
    "    print(\" ___ Not Such Word ___\")\n",
    "\n"
   ]
  },
  {
   "cell_type": "code",
   "execution_count": 13,
   "metadata": {},
   "outputs": [
    {
     "name": "stdout",
     "output_type": "stream",
     "text": [
      "Green\n"
     ]
    }
   ],
   "source": [
    "# gg = None\n",
    "\n",
    "# if gg : \n",
    "#     print(\"Yellow\")\n",
    "# else : \n",
    "#     print(\"Green\")"
   ]
  },
  {
   "cell_type": "code",
   "execution_count": 20,
   "metadata": {},
   "outputs": [
    {
     "name": "stdout",
     "output_type": "stream",
     "text": [
      " Pattern Found :: long\n"
     ]
    }
   ],
   "source": [
    "# find the pattern where it starts with \"l\" and is 4 letter long ???\n",
    "\n",
    "import re\n",
    "\n",
    "# stringName = \"live long 2022 lives ahead 5782 False\"\n",
    "stringName = \"hive long 2022 lives ahead 5782 False\"\n",
    "\n",
    "res = re.search( r\"l\\w\\w\\w\", stringName )  # l---\n",
    "\n",
    "\n",
    "if res : \n",
    "    print( f\" Pattern Found :: {res.group()}\" )\n",
    "else :\n",
    "    print(\" ___ Not Such Word ___\")\n",
    "\n"
   ]
  },
  {
   "cell_type": "code",
   "execution_count": null,
   "metadata": {},
   "outputs": [],
   "source": []
  },
  {
   "cell_type": "markdown",
   "metadata": {},
   "source": [
    "# 2. Findall Method : \n",
    "\n",
    "- re.findall( pattern , stringName )\n",
    "- search the pattern from the starting of the string and return all the matching patterns\n",
    "- return LIST"
   ]
  },
  {
   "cell_type": "code",
   "execution_count": 22,
   "metadata": {},
   "outputs": [
    {
     "name": "stdout",
     "output_type": "stream",
     "text": [
      " Pattern Found :: ['long', 'live']\n"
     ]
    }
   ],
   "source": [
    "# find all the patterns where it starts with \"l\" and is 4 letter long ???\n",
    "\n",
    "import re\n",
    "\n",
    "# stringName = \"live long 2022 lives ahead 5782 False\"\n",
    "stringName = \"hive long 2022 alives ahead 5782 False\"\n",
    "\n",
    "res = re.findall( r\"l\\w\\w\\w\", stringName )  # l---\n",
    "\n",
    "\n",
    "if res : \n",
    "    print( f\" Pattern Found :: {res}\" )\n",
    "else :\n",
    "    print(\" ___ Not Such Word ___\")\n",
    "\n"
   ]
  },
  {
   "cell_type": "code",
   "execution_count": 32,
   "metadata": {},
   "outputs": [
    {
     "name": "stdout",
     "output_type": "stream",
     "text": [
      " Pattern Found :: ['long', 'live', 'larg', 'long', 'leth']\n"
     ]
    }
   ],
   "source": [
    "# find all the patterns where it starts with \"l\" and is 4 letter long ???\n",
    "\n",
    "import re\n",
    "\n",
    "# stringName = \"live long 2022 lives ahead 5782 False\"\n",
    "stringName = \"hive long 2022 alives ahead 5782 False. this is the largest and longest and lethargic\"\n",
    "\n",
    "res = re.findall( r\"l\\w\\w\\w\", stringName )  # l-------\n",
    "\n",
    "\n",
    "if res : \n",
    "    print( f\" Pattern Found :: {res}\" )\n",
    "else :\n",
    "    print(\" ___ Not Such Word ___\")\n",
    "\n"
   ]
  },
  {
   "cell_type": "code",
   "execution_count": 34,
   "metadata": {},
   "outputs": [
    {
     "name": "stdout",
     "output_type": "stream",
     "text": [
      " Pattern Found :: ['long', 'live', 'larg', 'long', 'leth']\n"
     ]
    }
   ],
   "source": [
    "# find all the patterns where it starts with \"l\" and is 4 letter long ???\n",
    "\n",
    "import re\n",
    "\n",
    "# stringName = \"live long 2022 lives ahead 5782 False\"\n",
    "stringName = \"hive long 2022 alives ahead 5782 False. this is the largest and longest and lethargic\"\n",
    "\n",
    "res = re.findall( r\"l\\w{3}\", stringName )  # l-------\n",
    "\n",
    "\n",
    "if res : \n",
    "    print( f\" Pattern Found :: {res}\" )\n",
    "else :\n",
    "    print(\" ___ Not Such Word ___\")\n",
    "\n"
   ]
  },
  {
   "cell_type": "code",
   "execution_count": 30,
   "metadata": {},
   "outputs": [
    {
     "name": "stdout",
     "output_type": "stream",
     "text": [
      " Pattern Found :: ['largest', 'longest']\n"
     ]
    }
   ],
   "source": [
    "# find all the words where it starts with \"l\" and is 7 letter long ???\n",
    "\n",
    "import re\n",
    "\n",
    "# stringName = \"live long 2022 lives ahead 5782 False\"\n",
    "stringName = \"hive long 2022 alives ahead 5782 False. this is the largest and longest and lethargic\"\n",
    "\n",
    "res = re.findall( r\"\\bl\\w{6}\\b\", stringName )  # l-------\n",
    "\n",
    "\n",
    "if res : \n",
    "    print( f\" Pattern Found :: {res}\" )\n",
    "else :\n",
    "    print(\" ___ Not Such Word ___\")\n",
    "\n"
   ]
  },
  {
   "cell_type": "code",
   "execution_count": null,
   "metadata": {},
   "outputs": [],
   "source": [
    "largest\n",
    "l------\n",
    "l\\w{6}\n",
    "\\bl\\w{6}\\b"
   ]
  },
  {
   "cell_type": "code",
   "execution_count": 37,
   "metadata": {},
   "outputs": [
    {
     "name": "stdout",
     "output_type": "stream",
     "text": [
      " Pattern Found :: ['long', 'largest', 'longest', 'lethargic']\n"
     ]
    }
   ],
   "source": [
    "# find all the words where it starts with \"l\" and is minimum 3-char long\n",
    "\n",
    "import re\n",
    "\n",
    "# stringName = \"live long 2022 lives ahead 5782 False\"\n",
    "stringName = \"le hive long 2022 alives ahead 5782 False. this is the largest and longest and lethargic\"\n",
    "\n",
    "res = re.findall( r\"\\bl\\w{3,}\\b\", stringName )  # l----\n",
    "\n",
    "\n",
    "if res : \n",
    "    print( f\" Pattern Found :: {res}\" )\n",
    "else :\n",
    "    print(\" ___ Not Such Word ___\")\n",
    "\n"
   ]
  },
  {
   "cell_type": "code",
   "execution_count": 40,
   "metadata": {},
   "outputs": [
    {
     "name": "stdout",
     "output_type": "stream",
     "text": [
      " Pattern Found :: ['alives', 'ahead', 'and', 'and']\n"
     ]
    }
   ],
   "source": [
    "# find all the words where it starts with \"a\" and is minimum 2 char and maximum 10 chars long\n",
    "\n",
    "import re\n",
    "\n",
    "# stringName = \"live long 2022 lives ahead 5782 False\"\n",
    "stringName = \"le hive long 2022 alives ahead 5782 False. this is the largest and longest and lethargic\"\n",
    "\n",
    "# res = re.findall( r\"a\\w{2,10}\", stringName )  \n",
    "res = re.findall( r\"\\ba\\w{2,10}\\b\", stringName )  \n",
    "\n",
    "\n",
    "if res : \n",
    "    print( f\" Pattern Found :: {res}\" )\n",
    "else :\n",
    "    print(\" ___ Not Such Word ___\")\n",
    "\n"
   ]
  },
  {
   "cell_type": "code",
   "execution_count": 47,
   "metadata": {},
   "outputs": [
    {
     "name": "stdout",
     "output_type": "stream",
     "text": [
      " Pattern Found :: ['a', 'alive', 'and', 'a', 'ahead', 'and', 'an', 'ammmm', 'awesome']\n"
     ]
    }
   ],
   "source": [
    "\n",
    "# Q. find all the words that start with \"a\"\n",
    "\n",
    "import re\n",
    "\n",
    "stringName = \"a man is alive in the city and a woman is ahead of him and an umbrella to ammmm awesome\"\n",
    "\n",
    "# res = re.findall( r\"a\\w{,}\", stringName )  \n",
    "# res = re.findall( r\"\\ba\\w{,}\\b\", stringName )  \n",
    "# res = re.findall( r\"\\ba\\w+\\b\", stringName )  # min 1 amd max infinity\n",
    "res = re.findall( r\"\\ba\\w*\\b\", stringName )  # min 0 amd max infinity\n",
    "\n",
    "\n",
    "if res : \n",
    "    print( f\" Pattern Found :: {res}\" )\n",
    "else :\n",
    "    print(\" ___ Not Such Word ___\")\n",
    "\n"
   ]
  },
  {
   "cell_type": "code",
   "execution_count": 49,
   "metadata": {},
   "outputs": [
    {
     "name": "stdout",
     "output_type": "stream",
     "text": [
      " Pattern Found :: ['a', 'a', 'an']\n"
     ]
    }
   ],
   "source": [
    "\n",
    "# Q. find all the words that start with \"a\" and is 1-2 char long???\n",
    "\n",
    "import re\n",
    "\n",
    "stringName = \"a man is alive in the city and a woman is ahead of him and an umbrella to ammmm awesome\"\n",
    "\n",
    "# res = re.findall( r\"\\ba\\w{0,1}\\b\", stringName )  \n",
    "res = re.findall( r\"\\ba\\w?\\b\", stringName )  \n",
    "\n",
    "\n",
    "if res : \n",
    "    print( f\" Pattern Found :: {res}\" )\n",
    "else :\n",
    "    print(\" ___ Not Such Word ___\")\n",
    "\n"
   ]
  },
  {
   "cell_type": "code",
   "execution_count": 52,
   "metadata": {},
   "outputs": [
    {
     "name": "stdout",
     "output_type": "stream",
     "text": [
      " Pattern Found :: ['python', 'pots']\n"
     ]
    }
   ],
   "source": [
    "# Q. find all the words that start with \"p\" and next char is y or o \n",
    "\n",
    "import re\n",
    "\n",
    "stringName = \"this is python programming and we made small pots to learn this platform keeps\"\n",
    "\n",
    "# res = re.findall( r\"py\\w*\", stringName )  \n",
    "# res = re.findall( r\"po\\w*\", stringName )  \n",
    "res = re.findall( r\"p[y|o]\\w*\", stringName )  \n",
    "\n",
    "\n",
    "if res : \n",
    "    print( f\" Pattern Found :: {res}\" )\n",
    "else :\n",
    "    print(\" ___ Not Such Word ___\")\n",
    "\n"
   ]
  },
  {
   "cell_type": "code",
   "execution_count": null,
   "metadata": {},
   "outputs": [],
   "source": [
    "python  py\\w*  py\\w{,}\n",
    "pots    po\\w*  po\\w{,}\n",
    "\n"
   ]
  },
  {
   "cell_type": "code",
   "execution_count": 57,
   "metadata": {},
   "outputs": [
    {
     "name": "stdout",
     "output_type": "stream",
     "text": [
      " Pattern Found :: ['python', 'programming']\n"
     ]
    }
   ],
   "source": [
    "# Q. find all the words that start with \"p\" and next char is y or o or x or s\n",
    "\n",
    "import re\n",
    "\n",
    "stringName = \"this is python programming and we made small pots to learn this platform keeps\"\n",
    "\n",
    "# res = re.findall( r\"py\\w*\", stringName )  \n",
    "# res = re.findall( r\"po\\w*\", stringName )  \n",
    "res = re.findall( r\"p[y,o,x,s]\\w*\", stringName )  \n",
    "res = re.findall( r\"\\bp[^o,l,s]\\w*\\b\", stringName ) # XX po_____ or pl_____ or ps_____  \n",
    "\n",
    "\n",
    "if res : \n",
    "    print( f\" Pattern Found :: {res}\" )\n",
    "else :\n",
    "    print(\" ___ Not Such Word ___\")\n",
    "\n"
   ]
  },
  {
   "cell_type": "code",
   "execution_count": 68,
   "metadata": {},
   "outputs": [
    {
     "name": "stdout",
     "output_type": "stream",
     "text": [
      " Pattern Found :: ['87487', '847', '1025', '9878745201', '7474852016', '8485120358']\n"
     ]
    }
   ],
   "source": [
    "# Q. find all the digits from the string\n",
    "\n",
    "import re\n",
    "\n",
    "stringName = \"\"\"\n",
    "87487\n",
    "847\n",
    "1025\n",
    "9878745201\n",
    "7474852016\n",
    "8485120358\n",
    "one\n",
    "two\n",
    "three\n",
    "four\n",
    "\"\"\"\n",
    "\n",
    "\n",
    "# res = re.findall( r\"\\d*\", stringName )  # At least zero time \\d shall be there\n",
    "res = re.findall( r\"\\d+\", stringName )  # At least one time \\d shall be there \n",
    "\n",
    "\n",
    "if res : \n",
    "    print( f\" Pattern Found :: {res}\" )\n",
    "else :\n",
    "    print(\" ___ Not Such Word ___\")\n",
    "\n"
   ]
  },
  {
   "cell_type": "code",
   "execution_count": 70,
   "metadata": {},
   "outputs": [
    {
     "name": "stdout",
     "output_type": "stream",
     "text": [
      " Pattern Found :: ['9878745201', '7474852016', '8485120358']\n"
     ]
    }
   ],
   "source": [
    "# Q. find all the digits from the string which are 10 char long\n",
    "\n",
    "import re\n",
    "\n",
    "stringName = \"\"\"\n",
    "87487\n",
    "847\n",
    "1025\n",
    "9878745201\n",
    "7474852016\n",
    "8485120358\n",
    "one\n",
    "two\n",
    "three\n",
    "four\n",
    "\"\"\"\n",
    "\n",
    "\n",
    "# res = re.findall( r\"\\d*\", stringName )  # At least zero time \\d shall be there\n",
    "# res = re.findall( r\"\\d+\", stringName )  # At least one time \\d shall be there \n",
    "res = re.findall( r\"\\d{10}\", stringName ) \n",
    "\n",
    "\n",
    "if res : \n",
    "    print( f\" Pattern Found :: {res}\" )\n",
    "else :\n",
    "    print(\" ___ Not Such Word ___\")\n",
    "\n"
   ]
  },
  {
   "cell_type": "code",
   "execution_count": 72,
   "metadata": {},
   "outputs": [
    {
     "name": "stdout",
     "output_type": "stream",
     "text": [
      " Pattern Found :: ['22/12/1996', '14/06/1993', '12-05-2020', '04-09-1999']\n"
     ]
    }
   ],
   "source": [
    "# Q. find all the DOB from the string\n",
    "\n",
    "import re\n",
    "\n",
    "stringName = \"\"\"\n",
    "Nitish : 22/12/1996 \n",
    "Aditya : 14/06/1993\n",
    "Jaya : 12-05-2020\n",
    "Suman : 04-09-1999\n",
    "\"\"\"\n",
    "\n",
    "[\"22/12/1996\", \"14/06/1993\", \"12-05-2020\", \"04-09-1999\"]\n",
    "\n",
    "res = re.findall( r\"\\d{1,2}[/-]\\d{1,2}[/-]\\d{1,4}\", stringName )  \n",
    "\n",
    "\n",
    "if res : \n",
    "    print( f\" Pattern Found :: {res}\" )\n",
    "else :\n",
    "    print(\" ___ Not Such Word ___\")\n",
    "\n"
   ]
  },
  {
   "cell_type": "code",
   "execution_count": null,
   "metadata": {},
   "outputs": [],
   "source": [
    "[\"22/12/1996\", \"14/06/1993\", \"12-5-2020\", \"04-09-1999\"]\n",
    "/d{1,2}//d{1,2}//d{1,4}\n",
    "/d{1,2}-/d{1,2}-/d{1,4}\n"
   ]
  },
  {
   "cell_type": "code",
   "execution_count": 73,
   "metadata": {},
   "outputs": [
    {
     "name": "stdout",
     "output_type": "stream",
     "text": [
      " Pattern Found :: ['nitish@gmail.com', 'jaya@yahoo.in']\n"
     ]
    }
   ],
   "source": [
    "# Q. find all the EMAILS from the string\n",
    "\n",
    "import re\n",
    "\n",
    "stringName = \"\"\"\n",
    "Nitish : nitish@gmail.com\n",
    "Aditya : aditya@@yahoo.com\n",
    "Jaya : jaya@yahoo.in\n",
    "Suman : suman#gmail..com\n",
    "\"\"\"\n",
    "\n",
    "res = re.findall( r\"\\w{1,}@\\w{1,}.\\w{1,}\", stringName )  \n",
    "\n",
    "\n",
    "if res : \n",
    "    print( f\" Pattern Found :: {res}\" )\n",
    "else :\n",
    "    print(\" ___ Not Such Word ___\")\n",
    "\n"
   ]
  },
  {
   "cell_type": "code",
   "execution_count": null,
   "metadata": {},
   "outputs": [],
   "source": [
    "nitish@gmail.com\n",
    "\\w{1,}@\\w{1,}.\\w{1,}\n"
   ]
  },
  {
   "cell_type": "markdown",
   "metadata": {},
   "source": [
    "# 3. sub method : \n",
    "\n",
    "- replace the pattern with new pattern\n",
    "- re.sub(old, new, stringName)\n"
   ]
  },
  {
   "cell_type": "code",
   "execution_count": 75,
   "metadata": {},
   "outputs": [
    {
     "name": "stdout",
     "output_type": "stream",
     "text": [
      " Pattern Found :: hive ** 2022 ** ahead 5782 False\n"
     ]
    }
   ],
   "source": [
    "# Replace the words that start with l with **\n",
    "\n",
    "import re\n",
    "\n",
    "stringName = \"hive long 2022 lives ahead 5782 False\"\n",
    "\n",
    "# res = re.sub( r\"l\\w*\", \"**\", stringName )  \n",
    "res = re.sub( r\"\\bl\\w*\\b\", \"**\", stringName )  \n",
    "\n",
    "\n",
    "if res : \n",
    "    print( f\" Pattern Found :: {res}\" )\n",
    "else :\n",
    "    print(\" ___ Not Such Word ___\")\n",
    "\n"
   ]
  },
  {
   "cell_type": "code",
   "execution_count": null,
   "metadata": {},
   "outputs": [],
   "source": []
  },
  {
   "cell_type": "code",
   "execution_count": null,
   "metadata": {},
   "outputs": [],
   "source": []
  },
  {
   "cell_type": "markdown",
   "metadata": {},
   "source": [
    "# 4. split method : \n",
    "\n",
    "- splits the string on the basis of pattern\n",
    "- re.split(pattern, stringName)\n"
   ]
  },
  {
   "cell_type": "code",
   "execution_count": 76,
   "metadata": {},
   "outputs": [
    {
     "name": "stdout",
     "output_type": "stream",
     "text": [
      " Pattern Found :: ['hive ', ' 2022 ', ' ahead 5782 False']\n"
     ]
    }
   ],
   "source": [
    "# split the string on the basis of words that start with l\n",
    "\n",
    "import re\n",
    "\n",
    "stringName = \"hive long 2022 lives ahead 5782 False\"\n",
    "\n",
    "res = re.split( r\"\\bl\\w*\\b\", stringName )  \n",
    "\n",
    "\n",
    "if res : \n",
    "    print( f\" Pattern Found :: {res}\" )\n",
    "else :\n",
    "    print(\" ___ Not Such Word ___\")\n",
    "\n"
   ]
  },
  {
   "cell_type": "code",
   "execution_count": null,
   "metadata": {},
   "outputs": [],
   "source": []
  },
  {
   "cell_type": "code",
   "execution_count": null,
   "metadata": {},
   "outputs": [],
   "source": []
  },
  {
   "cell_type": "code",
   "execution_count": null,
   "metadata": {},
   "outputs": [],
   "source": []
  },
  {
   "cell_type": "code",
   "execution_count": null,
   "metadata": {},
   "outputs": [],
   "source": []
  },
  {
   "cell_type": "code",
   "execution_count": null,
   "metadata": {},
   "outputs": [],
   "source": []
  },
  {
   "cell_type": "code",
   "execution_count": null,
   "metadata": {},
   "outputs": [],
   "source": []
  },
  {
   "cell_type": "code",
   "execution_count": null,
   "metadata": {},
   "outputs": [],
   "source": []
  }
 ],
 "metadata": {
  "kernelspec": {
   "display_name": "Python 3",
   "language": "python",
   "name": "python3"
  },
  "language_info": {
   "codemirror_mode": {
    "name": "ipython",
    "version": 3
   },
   "file_extension": ".py",
   "mimetype": "text/x-python",
   "name": "python",
   "nbconvert_exporter": "python",
   "pygments_lexer": "ipython3",
   "version": "3.8.3"
  }
 },
 "nbformat": 4,
 "nbformat_minor": 4
}
