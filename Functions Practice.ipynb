{
 "cells": [
  {
   "cell_type": "code",
   "execution_count": 2,
   "metadata": {},
   "outputs": [
    {
     "data": {
      "text/plain": [
       "['   banana   ', 7584710258464, 'earth is 3rd planet', 'green ocean']"
      ]
     },
     "execution_count": 2,
     "metadata": {},
     "output_type": "execute_result"
    }
   ],
   "source": [
    "# Q1. Given a list of elements, find the ones having length more than 10.\n",
    "\n",
    "myList = [ \"apple\", \"   banana   \", 258515, False, 7584710258464, \"earth is 3rd planet\", \"green ocean\", \"larger\" ]\n",
    "\n",
    "res = list( filter( lambda x : True if len(str(x)) > 10 else False, myList ) )\n",
    "res\n"
   ]
  },
  {
   "cell_type": "code",
   "execution_count": null,
   "metadata": {},
   "outputs": [],
   "source": []
  },
  {
   "cell_type": "code",
   "execution_count": null,
   "metadata": {},
   "outputs": [],
   "source": [
    "# Q2. Given a list of elements, convert every element to the str type ? \n",
    "\n",
    "myList = [ \"apple\", \"   banana   \", 258515, False, 7584710258464, \"earth is 3rd planet\", \"green ocean\", \"larger\" ]\n"
   ]
  },
  {
   "cell_type": "code",
   "execution_count": 4,
   "metadata": {},
   "outputs": [
    {
     "data": {
      "text/plain": [
       "('apple',\n",
       " '   banana   ',\n",
       " '258515',\n",
       " 'False',\n",
       " '7584710258464',\n",
       " 'earth is 3rd planet',\n",
       " 'green ocean',\n",
       " 'larger')"
      ]
     },
     "execution_count": 4,
     "metadata": {},
     "output_type": "execute_result"
    }
   ],
   "source": [
    "# res = tuple( map( lambda x : str(x), myList ) )\n",
    "res = tuple( map( str , myList ) )\n",
    "\n",
    "res"
   ]
  },
  {
   "cell_type": "code",
   "execution_count": null,
   "metadata": {},
   "outputs": [],
   "source": []
  },
  {
   "cell_type": "code",
   "execution_count": null,
   "metadata": {},
   "outputs": [],
   "source": [
    "# Q3. Given a list of elements, convert every element to the UPPER and STRIP if its str type, else do \n",
    "# find the squareroot of the number ? \n",
    "\n",
    "myList = [ \"apple\", \"   banana   \", 258515, False, 7584710258464, \"earth is 3rd planet\", \"green ocean\", \"larger\" ]\n"
   ]
  },
  {
   "cell_type": "code",
   "execution_count": 10,
   "metadata": {},
   "outputs": [
    {
     "data": {
      "text/plain": [
       "['APPLE',\n",
       " 'BANANA',\n",
       " 508.44,\n",
       " 0.0,\n",
       " 2754035.27,\n",
       " 'EARTH IS 3RD PLANET',\n",
       " 'GREEN OCEAN',\n",
       " 'LARGER']"
      ]
     },
     "execution_count": 10,
     "metadata": {},
     "output_type": "execute_result"
    }
   ],
   "source": [
    "def fun(x) : \n",
    "    \n",
    "    if isinstance( x, str ) : \n",
    "        return x.upper().strip()\n",
    "    else : \n",
    "        return round( x ** 0.5, 2)\n",
    "     \n",
    "res = list(  map( fun, myList ) )\n",
    "res"
   ]
  },
  {
   "cell_type": "code",
   "execution_count": null,
   "metadata": {},
   "outputs": [],
   "source": []
  },
  {
   "cell_type": "code",
   "execution_count": null,
   "metadata": {},
   "outputs": [],
   "source": []
  },
  {
   "cell_type": "code",
   "execution_count": null,
   "metadata": {},
   "outputs": [],
   "source": []
  },
  {
   "cell_type": "code",
   "execution_count": null,
   "metadata": {},
   "outputs": [],
   "source": []
  },
  {
   "cell_type": "code",
   "execution_count": null,
   "metadata": {},
   "outputs": [],
   "source": []
  }
 ],
 "metadata": {
  "kernelspec": {
   "display_name": "Python 3",
   "language": "python",
   "name": "python3"
  },
  "language_info": {
   "codemirror_mode": {
    "name": "ipython",
    "version": 3
   },
   "file_extension": ".py",
   "mimetype": "text/x-python",
   "name": "python",
   "nbconvert_exporter": "python",
   "pygments_lexer": "ipython3",
   "version": "3.8.3"
  }
 },
 "nbformat": 4,
 "nbformat_minor": 4
}
